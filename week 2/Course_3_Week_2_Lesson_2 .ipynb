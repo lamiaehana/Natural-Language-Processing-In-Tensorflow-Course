{
  "nbformat": 4,
  "nbformat_minor": 0,
  "metadata": {
    "accelerator": "GPU",
    "colab": {
      "name": "Course 3 - Week 2 - Lesson 2.ipynb",
      "provenance": [],
      "collapsed_sections": [],
      "toc_visible": true
    },
    "kernelspec": {
      "display_name": "Python 3",
      "name": "python3"
    }
  },
  "cells": [
    {
      "cell_type": "code",
      "metadata": {
        "id": "zX4Kg8DUTKWO"
      },
      "source": [
        "#@title Licensed under the Apache License, Version 2.0 (the \"License\");\n",
        "# you may not use this file except in compliance with the License.\n",
        "# You may obtain a copy of the License at\n",
        "#\n",
        "# https://www.apache.org/licenses/LICENSE-2.0\n",
        "#\n",
        "# Unless required by applicable law or agreed to in writing, software\n",
        "# distributed under the License is distributed on an \"AS IS\" BASIS,\n",
        "# WITHOUT WARRANTIES OR CONDITIONS OF ANY KIND, either express or implied.\n",
        "# See the License for the specific language governing permissions and\n",
        "# limitations under the License."
      ],
      "execution_count": 1,
      "outputs": []
    },
    {
      "cell_type": "markdown",
      "metadata": {
        "id": "view-in-github"
      },
      "source": [
        "<a href=\"https://colab.research.google.com/github/lmoroney/dlaicourse/blob/master/TensorFlow%20In%20Practice/Course%203%20-%20NLP/Course%203%20-%20Week%202%20-%20Lesson%202.ipynb\" target=\"_parent\"><img src=\"https://colab.research.google.com/assets/colab-badge.svg\" alt=\"Open In Colab\"/></a>"
      ]
    },
    {
      "cell_type": "code",
      "metadata": {
        "id": "4gs9htvM7n_x"
      },
      "source": [
        "# Run this to ensure TensorFlow 2.x is used\n",
        "try:\n",
        "  # %tensorflow_version only exists in Colab.\n",
        "  %tensorflow_version 2.x\n",
        "except Exception:\n",
        "  pass"
      ],
      "execution_count": 2,
      "outputs": []
    },
    {
      "cell_type": "code",
      "metadata": {
        "id": "XYYDvoskkE61"
      },
      "source": [
        "import json\n",
        "import tensorflow as tf\n",
        "\n",
        "from tensorflow.keras.preprocessing.text import Tokenizer\n",
        "from tensorflow.keras.preprocessing.sequence import pad_sequences"
      ],
      "execution_count": 3,
      "outputs": []
    },
    {
      "cell_type": "code",
      "metadata": {
        "id": "0eJSTTYnkJQd"
      },
      "source": [
        "vocab_size = 10000\n",
        "embedding_dim = 16\n",
        "max_length = 100\n",
        "trunc_type='post'\n",
        "padding_type='post'\n",
        "oov_tok = \"<OOV>\"\n",
        "training_size = 20000\n"
      ],
      "execution_count": 4,
      "outputs": []
    },
    {
      "cell_type": "code",
      "metadata": {
        "colab": {
          "base_uri": "https://localhost:8080/"
        },
        "id": "BQVuQrZNkPn9",
        "outputId": "87312d04-23d0-4542-922e-cb5801f2413f"
      },
      "source": [
        "!wget --no-check-certificate \\\n",
        "    https://storage.googleapis.com/laurencemoroney-blog.appspot.com/sarcasm.json \\\n",
        "    -O /tmp/sarcasm.json\n"
      ],
      "execution_count": 5,
      "outputs": [
        {
          "output_type": "stream",
          "text": [
            "--2021-02-18 15:08:51--  https://storage.googleapis.com/laurencemoroney-blog.appspot.com/sarcasm.json\n",
            "Resolving storage.googleapis.com (storage.googleapis.com)... 64.233.189.128, 108.177.125.128, 2404:6800:4008:c07::80, ...\n",
            "Connecting to storage.googleapis.com (storage.googleapis.com)|64.233.189.128|:443... connected.\n",
            "HTTP request sent, awaiting response... 200 OK\n",
            "Length: 5643545 (5.4M) [application/json]\n",
            "Saving to: ‘/tmp/sarcasm.json’\n",
            "\n",
            "/tmp/sarcasm.json   100%[===================>]   5.38M  16.8MB/s    in 0.3s    \n",
            "\n",
            "2021-02-18 15:08:53 (16.8 MB/s) - ‘/tmp/sarcasm.json’ saved [5643545/5643545]\n",
            "\n"
          ],
          "name": "stdout"
        }
      ]
    },
    {
      "cell_type": "code",
      "metadata": {
        "id": "oaLaaqhNkUPd"
      },
      "source": [
        "with open(\"/tmp/sarcasm.json\", 'r') as f:\n",
        "    datastore = json.load(f)\n",
        "\n",
        "sentences = []\n",
        "labels = []\n",
        "\n",
        "for item in datastore:\n",
        "    sentences.append(item['headline'])\n",
        "    labels.append(item['is_sarcastic'])"
      ],
      "execution_count": 6,
      "outputs": []
    },
    {
      "cell_type": "code",
      "metadata": {
        "id": "S1sD-7v0kYWk"
      },
      "source": [
        "training_sentences = sentences[0:training_size]\n",
        "testing_sentences = sentences[training_size:]\n",
        "training_labels = labels[0:training_size]\n",
        "testing_labels = labels[training_size:]"
      ],
      "execution_count": 8,
      "outputs": []
    },
    {
      "cell_type": "code",
      "metadata": {
        "id": "3u8UB0MCkZ5N"
      },
      "source": [
        "tokenizer = Tokenizer(num_words=vocab_size, oov_token=oov_tok)\n",
        "tokenizer.fit_on_texts(training_sentences)\n",
        "\n",
        "word_index = tokenizer.word_index\n",
        "\n",
        "training_sequences = tokenizer.texts_to_sequences(training_sentences)\n",
        "training_padded = pad_sequences(training_sequences, maxlen=max_length, padding=padding_type, truncating=trunc_type)\n",
        "\n",
        "testing_sequences = tokenizer.texts_to_sequences(testing_sentences)\n",
        "testing_padded = pad_sequences(testing_sequences, maxlen=max_length, padding=padding_type, truncating=trunc_type)"
      ],
      "execution_count": 9,
      "outputs": []
    },
    {
      "cell_type": "code",
      "metadata": {
        "id": "GrAlWBKf99Ya"
      },
      "source": [
        "# Need this block to get it to work with TensorFlow 2.x\n",
        "import numpy as np\n",
        "training_padded = np.array(training_padded)\n",
        "training_labels = np.array(training_labels)\n",
        "testing_padded = np.array(testing_padded)\n",
        "testing_labels = np.array(testing_labels)"
      ],
      "execution_count": 10,
      "outputs": []
    },
    {
      "cell_type": "code",
      "metadata": {
        "id": "FufaT4vlkiDE"
      },
      "source": [
        "model = tf.keras.Sequential([\n",
        "    tf.keras.layers.Embedding(vocab_size, embedding_dim, input_length=max_length),\n",
        "    tf.keras.layers.GlobalAveragePooling1D(),\n",
        "    tf.keras.layers.Dense(24, activation='relu'),\n",
        "    tf.keras.layers.Dense(1, activation='sigmoid')\n",
        "])\n",
        "model.compile(loss='binary_crossentropy',optimizer='adam',metrics=['accuracy'])"
      ],
      "execution_count": 11,
      "outputs": []
    },
    {
      "cell_type": "code",
      "metadata": {
        "colab": {
          "base_uri": "https://localhost:8080/"
        },
        "id": "XfDt1hmYkiys",
        "outputId": "e4b9d458-2d46-4018-84aa-8aea78a2f545"
      },
      "source": [
        "model.summary()\n"
      ],
      "execution_count": 12,
      "outputs": [
        {
          "output_type": "stream",
          "text": [
            "Model: \"sequential\"\n",
            "_________________________________________________________________\n",
            "Layer (type)                 Output Shape              Param #   \n",
            "=================================================================\n",
            "embedding (Embedding)        (None, 100, 16)           160000    \n",
            "_________________________________________________________________\n",
            "global_average_pooling1d (Gl (None, 16)                0         \n",
            "_________________________________________________________________\n",
            "dense (Dense)                (None, 24)                408       \n",
            "_________________________________________________________________\n",
            "dense_1 (Dense)              (None, 1)                 25        \n",
            "=================================================================\n",
            "Total params: 160,433\n",
            "Trainable params: 160,433\n",
            "Non-trainable params: 0\n",
            "_________________________________________________________________\n"
          ],
          "name": "stdout"
        }
      ]
    },
    {
      "cell_type": "code",
      "metadata": {
        "colab": {
          "base_uri": "https://localhost:8080/"
        },
        "id": "2DTKQFf1kkyc",
        "outputId": "41b74496-d607-4ed8-81ba-4b7e8b687506"
      },
      "source": [
        "num_epochs = 30\n",
        "history = model.fit(training_padded, training_labels, epochs=num_epochs, validation_data=(testing_padded, testing_labels), verbose=2)"
      ],
      "execution_count": 13,
      "outputs": [
        {
          "output_type": "stream",
          "text": [
            "Epoch 1/30\n",
            "625/625 - 5s - loss: 0.6747 - accuracy: 0.5659 - val_loss: 0.6260 - val_accuracy: 0.6848\n",
            "Epoch 2/30\n",
            "625/625 - 3s - loss: 0.4760 - accuracy: 0.8044 - val_loss: 0.4101 - val_accuracy: 0.8219\n",
            "Epoch 3/30\n",
            "625/625 - 3s - loss: 0.3295 - accuracy: 0.8693 - val_loss: 0.3599 - val_accuracy: 0.8508\n",
            "Epoch 4/30\n",
            "625/625 - 3s - loss: 0.2749 - accuracy: 0.8924 - val_loss: 0.3470 - val_accuracy: 0.8544\n",
            "Epoch 5/30\n",
            "625/625 - 3s - loss: 0.2391 - accuracy: 0.9079 - val_loss: 0.3530 - val_accuracy: 0.8468\n",
            "Epoch 6/30\n",
            "625/625 - 3s - loss: 0.2106 - accuracy: 0.9193 - val_loss: 0.3475 - val_accuracy: 0.8569\n",
            "Epoch 7/30\n",
            "625/625 - 3s - loss: 0.1870 - accuracy: 0.9284 - val_loss: 0.3569 - val_accuracy: 0.8535\n",
            "Epoch 8/30\n",
            "625/625 - 3s - loss: 0.1686 - accuracy: 0.9378 - val_loss: 0.3664 - val_accuracy: 0.8536\n",
            "Epoch 9/30\n",
            "625/625 - 3s - loss: 0.1528 - accuracy: 0.9444 - val_loss: 0.4063 - val_accuracy: 0.8402\n",
            "Epoch 10/30\n",
            "625/625 - 3s - loss: 0.1394 - accuracy: 0.9501 - val_loss: 0.4000 - val_accuracy: 0.8495\n",
            "Epoch 11/30\n",
            "625/625 - 3s - loss: 0.1268 - accuracy: 0.9570 - val_loss: 0.4145 - val_accuracy: 0.8509\n",
            "Epoch 12/30\n",
            "625/625 - 3s - loss: 0.1162 - accuracy: 0.9598 - val_loss: 0.4332 - val_accuracy: 0.8490\n",
            "Epoch 13/30\n",
            "625/625 - 3s - loss: 0.1061 - accuracy: 0.9642 - val_loss: 0.4708 - val_accuracy: 0.8410\n",
            "Epoch 14/30\n",
            "625/625 - 3s - loss: 0.0983 - accuracy: 0.9667 - val_loss: 0.4811 - val_accuracy: 0.8441\n",
            "Epoch 15/30\n",
            "625/625 - 3s - loss: 0.0916 - accuracy: 0.9693 - val_loss: 0.5024 - val_accuracy: 0.8429\n",
            "Epoch 16/30\n",
            "625/625 - 3s - loss: 0.0843 - accuracy: 0.9728 - val_loss: 0.5294 - val_accuracy: 0.8398\n",
            "Epoch 17/30\n",
            "625/625 - 3s - loss: 0.0769 - accuracy: 0.9755 - val_loss: 0.5659 - val_accuracy: 0.8360\n",
            "Epoch 18/30\n",
            "625/625 - 3s - loss: 0.0714 - accuracy: 0.9771 - val_loss: 0.5966 - val_accuracy: 0.8341\n",
            "Epoch 19/30\n",
            "625/625 - 3s - loss: 0.0657 - accuracy: 0.9795 - val_loss: 0.6179 - val_accuracy: 0.8329\n",
            "Epoch 20/30\n",
            "625/625 - 3s - loss: 0.0616 - accuracy: 0.9806 - val_loss: 0.6471 - val_accuracy: 0.8332\n",
            "Epoch 21/30\n",
            "625/625 - 3s - loss: 0.0559 - accuracy: 0.9835 - val_loss: 0.7090 - val_accuracy: 0.8271\n",
            "Epoch 22/30\n",
            "625/625 - 3s - loss: 0.0526 - accuracy: 0.9843 - val_loss: 0.7076 - val_accuracy: 0.8293\n",
            "Epoch 23/30\n",
            "625/625 - 3s - loss: 0.0483 - accuracy: 0.9859 - val_loss: 0.7446 - val_accuracy: 0.8277\n",
            "Epoch 24/30\n",
            "625/625 - 3s - loss: 0.0460 - accuracy: 0.9862 - val_loss: 0.7907 - val_accuracy: 0.8256\n",
            "Epoch 25/30\n",
            "625/625 - 3s - loss: 0.0424 - accuracy: 0.9872 - val_loss: 0.8124 - val_accuracy: 0.8234\n",
            "Epoch 26/30\n",
            "625/625 - 3s - loss: 0.0394 - accuracy: 0.9880 - val_loss: 0.8714 - val_accuracy: 0.8198\n",
            "Epoch 27/30\n",
            "625/625 - 3s - loss: 0.0356 - accuracy: 0.9902 - val_loss: 0.8699 - val_accuracy: 0.8214\n",
            "Epoch 28/30\n",
            "625/625 - 3s - loss: 0.0342 - accuracy: 0.9899 - val_loss: 0.9072 - val_accuracy: 0.8186\n",
            "Epoch 29/30\n",
            "625/625 - 3s - loss: 0.0312 - accuracy: 0.9909 - val_loss: 0.9346 - val_accuracy: 0.8152\n",
            "Epoch 30/30\n",
            "625/625 - 3s - loss: 0.0287 - accuracy: 0.9919 - val_loss: 1.0215 - val_accuracy: 0.8159\n"
          ],
          "name": "stdout"
        }
      ]
    },
    {
      "cell_type": "code",
      "metadata": {
        "colab": {
          "base_uri": "https://localhost:8080/",
          "height": 541
        },
        "id": "2HYfBKXjkmU8",
        "outputId": "64baa418-703e-4a61-d168-87be2ea9d209"
      },
      "source": [
        "import matplotlib.pyplot as plt\n",
        "\n",
        "\n",
        "def plot_graphs(history, string):\n",
        "  plt.plot(history.history[string])\n",
        "  plt.plot(history.history['val_'+string])\n",
        "  plt.xlabel(\"Epochs\")\n",
        "  plt.ylabel(string)\n",
        "  plt.legend([string, 'val_'+string])\n",
        "  plt.show()\n",
        "  \n",
        "plot_graphs(history, \"accuracy\")\n",
        "plot_graphs(history, \"loss\")"
      ],
      "execution_count": 14,
      "outputs": [
        {
          "output_type": "display_data",
          "data": {
            "image/png": "[encoded data removed]",
            "text/plain": [
              "<Figure size 432x288 with 1 Axes>"
            ]
          },
          "metadata": {
            "tags": [],
            "needs_background": "light"
          }
        },
        {
          "output_type": "display_data",
          "data": {
            "image/png": "[encoded data removed]",
            "text/plain": [
              "<Figure size 432x288 with 1 Axes>"
            ]
          },
          "metadata": {
            "tags": [],
            "needs_background": "light"
          }
        }
      ]
    },
    {
      "cell_type": "code",
      "metadata": {
        "colab": {
          "base_uri": "https://localhost:8080/"
        },
        "id": "7SBdAZAenvzL",
        "outputId": "bcc5f867-a84d-4109-d66c-f9276c974a2b"
      },
      "source": [
        "reverse_word_index = dict([(value, key) for (key, value) in word_index.items()])\n",
        "\n",
        "def decode_sentence(text):\n",
        "    return ' '.join([reverse_word_index.get(i, '?') for i in text])\n",
        "\n",
        "print(decode_sentence(training_padded[0]))\n",
        "print(training_sentences[2])\n",
        "print(labels[2])"
      ],
      "execution_count": 15,
      "outputs": [
        {
          "output_type": "stream",
          "text": [
            "former <OOV> store clerk sues over secret 'black <OOV> for minority shoppers ? ? ? ? ? ? ? ? ? ? ? ? ? ? ? ? ? ? ? ? ? ? ? ? ? ? ? ? ? ? ? ? ? ? ? ? ? ? ? ? ? ? ? ? ? ? ? ? ? ? ? ? ? ? ? ? ? ? ? ? ? ? ? ? ? ? ? ? ? ? ? ? ? ? ? ? ? ? ? ? ? ? ? ? ? ? ? ?\n",
            "mom starting to fear son's web series closest thing she will have to grandchild\n",
            "1\n"
          ],
          "name": "stdout"
        }
      ]
    },
    {
      "cell_type": "code",
      "metadata": {
        "colab": {
          "base_uri": "https://localhost:8080/"
        },
        "id": "c9MqihtEkzQ9",
        "outputId": "5049f67e-7e2d-4a29-b4a8-abcd24cb0226"
      },
      "source": [
        "e = model.layers[0]\n",
        "weights = e.get_weights()[0]\n",
        "print(weights.shape) # shape: (vocab_size, embedding_dim)\n"
      ],
      "execution_count": 16,
      "outputs": [
        {
          "output_type": "stream",
          "text": [
            "(10000, 16)\n"
          ],
          "name": "stdout"
        }
      ]
    },
    {
      "cell_type": "code",
      "metadata": {
        "id": "LoBXVffknldU"
      },
      "source": [
        "import io\n",
        "\n",
        "out_v = io.open('vecs.tsv', 'w', encoding='utf-8')\n",
        "out_m = io.open('meta.tsv', 'w', encoding='utf-8')\n",
        "for word_num in range(1, vocab_size):\n",
        "  word = reverse_word_index[word_num]\n",
        "  embeddings = weights[word_num]\n",
        "  out_m.write(word + \"\\n\")\n",
        "  out_v.write('\\t'.join([str(x) for x in embeddings]) + \"\\n\")\n",
        "out_v.close()\n",
        "out_m.close()"
      ],
      "execution_count": 17,
      "outputs": []
    },
    {
      "cell_type": "code",
      "metadata": {
        "id": "U4eZ5HtVnnEE"
      },
      "source": [
        "try:\n",
        "  from google.colab import files\n",
        "except ImportError:\n",
        "  pass\n",
        "else:\n",
        "  files.download('vecs.tsv')\n",
        "  files.download('meta.tsv')"
      ],
      "execution_count": null,
      "outputs": []
    },
    {
      "cell_type": "code",
      "metadata": {
        "colab": {
          "base_uri": "https://localhost:8080/"
        },
        "id": "cG8-ArY-qDcz",
        "outputId": "f9faf053-a013-4c4e-b898-e84f87199c41"
      },
      "source": [
        "sentence = [\"granny starting to fear spiders in the garden might be real\", \"game of thrones season finale showing this sunday night\"]\n",
        "sequences = tokenizer.texts_to_sequences(sentence)\n",
        "padded = pad_sequences(sequences, maxlen=max_length, padding=padding_type, truncating=trunc_type)\n",
        "print(model.predict(padded))"
      ],
      "execution_count": 18,
      "outputs": [
        {
          "output_type": "stream",
          "text": [
            "[[8.2720816e-01]\n",
            " [9.3687086e-06]]\n"
          ],
          "name": "stdout"
        }
      ]
    }
  ]
}
